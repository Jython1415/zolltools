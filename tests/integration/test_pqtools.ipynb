{
 "cells": [
  {
   "cell_type": "code",
   "execution_count": 12,
   "metadata": {},
   "outputs": [],
   "source": [
    "from pathlib import Path\n",
    "from zolltools.db import pqtools as pqt"
   ]
  },
  {
   "cell_type": "code",
   "execution_count": 13,
   "metadata": {},
   "outputs": [],
   "source": [
    "# Set up config, reader, and writer\n",
    "\n",
    "data_dir = Path.cwd().joinpath(\"test_pqtools\")\n",
    "pq_config = pqt.ParquetManagerConfig(data_dir)\n",
    "pq_reader = pqt.Reader(pq_config)\n",
    "pq_writer = pqt.Writer(pq_config)"
   ]
  },
  {
   "cell_type": "code",
   "execution_count": 14,
   "metadata": {},
   "outputs": [
    {
     "data": {
      "text/plain": [
       "('uncategorized-assault',\n",
       " PosixPath('/Users/Joshua/Documents/_research-assistant/zolltools/tests/integration/test_pqtools/tmp/uncategorized-assault.parquet'))"
      ]
     },
     "execution_count": 14,
     "metadata": {},
     "output_type": "execute_result"
    }
   ],
   "source": [
    "# Create temporary table\n",
    "\n",
    "einjury01 = next(pq_reader.get_reader(\"einjury_01ref\"))\n",
    "uncategorized_assault = einjury01[einjury01[\"DiagnosisCodeDescr\"]==\"Assault by other specified means\"]\n",
    "pq_writer.save(uncategorized_assault, \"uncategorized-assault\")"
   ]
  },
  {
   "cell_type": "code",
   "execution_count": 16,
   "metadata": {},
   "outputs": [
    {
     "ename": "FileNotFoundError",
     "evalue": "[Errno 2] Failed to open local file '/Users/Joshua/Documents/_research-assistant/zolltools/tests/integration/test_pqtools/uncategorized-assault.parquet'. Detail: [errno 2] No such file or directory",
     "output_type": "error",
     "traceback": [
      "\u001b[0;31m---------------------------------------------------------------------------\u001b[0m",
      "\u001b[0;31mFileNotFoundError\u001b[0m                         Traceback (most recent call last)",
      "Cell \u001b[0;32mIn[16], line 1\u001b[0m\n\u001b[0;32m----> 1\u001b[0m loaded_table \u001b[39m=\u001b[39m \u001b[39mnext\u001b[39m(pq_reader\u001b[39m.\u001b[39;49mget_reader(\u001b[39m\"\u001b[39;49m\u001b[39muncategorized-assault\u001b[39;49m\u001b[39m\"\u001b[39;49m, tmp\u001b[39m=\u001b[39;49m\u001b[39mTrue\u001b[39;49;00m))\n\u001b[1;32m      2\u001b[0m loaded_table\u001b[39m.\u001b[39minfo()\n",
      "File \u001b[0;32m~/Documents/_research-assistant/zolltools/.venv/lib/python3.8/site-packages/zolltools/db/pqtools.py:116\u001b[0m, in \u001b[0;36mReader.get_reader\u001b[0;34m(self, pq_name, columns, target_in_memory_size, tmp)\u001b[0m\n\u001b[1;32m    114\u001b[0m \u001b[39mif\u001b[39;00m target_in_memory_size \u001b[39mis\u001b[39;00m \u001b[39mNone\u001b[39;00m:\n\u001b[1;32m    115\u001b[0m     target_in_memory_size \u001b[39m=\u001b[39m \u001b[39mself\u001b[39m\u001b[39m.\u001b[39mconfig\u001b[39m.\u001b[39mdefault_target_in_memory_size\n\u001b[0;32m--> 116\u001b[0m chunk_size \u001b[39m=\u001b[39m \u001b[39mself\u001b[39;49m\u001b[39m.\u001b[39;49m_calc_chunk_size(pq_name)\n\u001b[1;32m    117\u001b[0m pq_file, _ \u001b[39m=\u001b[39m \u001b[39mself\u001b[39m\u001b[39m.\u001b[39m_get_parquet_file(pq_name, tmp)\n\u001b[1;32m    118\u001b[0m pq_iter \u001b[39m=\u001b[39m pq_file\u001b[39m.\u001b[39miter_batches(batch_size\u001b[39m=\u001b[39mchunk_size, columns\u001b[39m=\u001b[39mcolumns)\n",
      "File \u001b[0;32m~/Documents/_research-assistant/zolltools/.venv/lib/python3.8/site-packages/zolltools/db/pqtools.py:57\u001b[0m, in \u001b[0;36mParquetManager._calc_chunk_size\u001b[0;34m(self, pq_name, target_in_memory_size)\u001b[0m\n\u001b[1;32m     55\u001b[0m \u001b[39mif\u001b[39;00m target_in_memory_size \u001b[39mis\u001b[39;00m \u001b[39mNone\u001b[39;00m:\n\u001b[1;32m     56\u001b[0m     target_in_memory_size \u001b[39m=\u001b[39m \u001b[39mself\u001b[39m\u001b[39m.\u001b[39mconfig\u001b[39m.\u001b[39mdefault_target_in_memory_size\n\u001b[0;32m---> 57\u001b[0m pq_file, _ \u001b[39m=\u001b[39m \u001b[39mself\u001b[39;49m\u001b[39m.\u001b[39;49m_get_parquet_file(pq_name)\n\u001b[1;32m     58\u001b[0m pq_iter \u001b[39m=\u001b[39m pq_file\u001b[39m.\u001b[39miter_batches(batch_size\u001b[39m=\u001b[39m\u001b[39m1\u001b[39m)\n\u001b[1;32m     59\u001b[0m row \u001b[39m=\u001b[39m \u001b[39mnext\u001b[39m(pq_iter)\u001b[39m.\u001b[39mto_pandas()\n",
      "File \u001b[0;32m~/Documents/_research-assistant/zolltools/.venv/lib/python3.8/site-packages/zolltools/db/pqtools.py:47\u001b[0m, in \u001b[0;36mParquetManager._get_parquet_file\u001b[0;34m(self, pq_name, tmp)\u001b[0m\n\u001b[1;32m     44\u001b[0m \u001b[39melse\u001b[39;00m:\n\u001b[1;32m     45\u001b[0m     file_path \u001b[39m=\u001b[39m \u001b[39mself\u001b[39m\u001b[39m.\u001b[39mconfig\u001b[39m.\u001b[39mdb_path\u001b[39m.\u001b[39mjoinpath(file_name)\n\u001b[0;32m---> 47\u001b[0m \u001b[39mreturn\u001b[39;00m (pq\u001b[39m.\u001b[39;49mParquetFile(file_path), file_path)\n",
      "File \u001b[0;32m~/Documents/_research-assistant/zolltools/.venv/lib/python3.8/site-packages/pyarrow/parquet/core.py:330\u001b[0m, in \u001b[0;36mParquetFile.__init__\u001b[0;34m(self, source, metadata, common_metadata, read_dictionary, memory_map, buffer_size, pre_buffer, coerce_int96_timestamp_unit, decryption_properties, thrift_string_size_limit, thrift_container_size_limit, filesystem)\u001b[0m\n\u001b[1;32m    327\u001b[0m filesystem, source \u001b[39m=\u001b[39m _resolve_filesystem_and_path(\n\u001b[1;32m    328\u001b[0m     source, filesystem, memory_map)\n\u001b[1;32m    329\u001b[0m \u001b[39mif\u001b[39;00m filesystem \u001b[39mis\u001b[39;00m \u001b[39mnot\u001b[39;00m \u001b[39mNone\u001b[39;00m:\n\u001b[0;32m--> 330\u001b[0m     source \u001b[39m=\u001b[39m filesystem\u001b[39m.\u001b[39;49mopen_input_file(source)\n\u001b[1;32m    331\u001b[0m     \u001b[39mself\u001b[39m\u001b[39m.\u001b[39m_close_source \u001b[39m=\u001b[39m \u001b[39mTrue\u001b[39;00m  \u001b[39m# We opened it here, ensure we close it.\u001b[39;00m\n\u001b[1;32m    333\u001b[0m \u001b[39mself\u001b[39m\u001b[39m.\u001b[39mreader \u001b[39m=\u001b[39m ParquetReader()\n",
      "File \u001b[0;32m~/Documents/_research-assistant/zolltools/.venv/lib/python3.8/site-packages/pyarrow/_fs.pyx:770\u001b[0m, in \u001b[0;36mpyarrow._fs.FileSystem.open_input_file\u001b[0;34m()\u001b[0m\n",
      "File \u001b[0;32m~/Documents/_research-assistant/zolltools/.venv/lib/python3.8/site-packages/pyarrow/error.pxi:144\u001b[0m, in \u001b[0;36mpyarrow.lib.pyarrow_internal_check_status\u001b[0;34m()\u001b[0m\n",
      "File \u001b[0;32m~/Documents/_research-assistant/zolltools/.venv/lib/python3.8/site-packages/pyarrow/error.pxi:113\u001b[0m, in \u001b[0;36mpyarrow.lib.check_status\u001b[0;34m()\u001b[0m\n",
      "\u001b[0;31mFileNotFoundError\u001b[0m: [Errno 2] Failed to open local file '/Users/Joshua/Documents/_research-assistant/zolltools/tests/integration/test_pqtools/uncategorized-assault.parquet'. Detail: [errno 2] No such file or directory"
     ]
    }
   ],
   "source": [
    "# Load temporary table\n",
    "\n",
    "loaded_table = next(pq_reader.get_reader(\"uncategorized-assault\", tmp=True))\n",
    "loaded_table.info()"
   ]
  }
 ],
 "metadata": {
  "kernelspec": {
   "display_name": ".venv",
   "language": "python",
   "name": "python3"
  },
  "language_info": {
   "codemirror_mode": {
    "name": "ipython",
    "version": 3
   },
   "file_extension": ".py",
   "mimetype": "text/x-python",
   "name": "python",
   "nbconvert_exporter": "python",
   "pygments_lexer": "ipython3",
   "version": "3.8.8"
  },
  "orig_nbformat": 4
 },
 "nbformat": 4,
 "nbformat_minor": 2
}
